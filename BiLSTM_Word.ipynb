{
  "cells": [
    {
      "cell_type": "markdown",
      "metadata": {
        "id": "view-in-github",
        "colab_type": "text"
      },
      "source": [
        "<a href=\"https://colab.research.google.com/github/omidkhalafbeigi/CBRCMN_WordBased/blob/main/BiLSTM_Word.ipynb\" target=\"_parent\"><img src=\"https://colab.research.google.com/assets/colab-badge.svg\" alt=\"Open In Colab\"/></a>"
      ]
    },
    {
      "cell_type": "code",
      "execution_count": null,
      "metadata": {
        "colab": {
          "base_uri": "https://localhost:8080/"
        },
        "id": "0yHgWvqWBAqS",
        "outputId": "4be4789e-dfdd-4c14-b563-baff1ceaeb4c"
      },
      "outputs": [
        {
          "name": "stdout",
          "output_type": "stream",
          "text": [
            "Mounted at /content/drive\n",
            "Looking in indexes: https://pypi.org/simple, https://us-python.pkg.dev/colab-wheels/public/simple/\n",
            "Collecting torchinfo\n",
            "  Downloading torchinfo-1.7.0-py3-none-any.whl (22 kB)\n",
            "Installing collected packages: torchinfo\n",
            "Successfully installed torchinfo-1.7.0\n"
          ]
        }
      ],
      "source": [
        "from google.colab import drive\n",
        "import os\n",
        "drive.mount('/content/drive')\n",
        "os.environ['CUDA_LAUNCH_BLOCKING'] = \"1\"\n",
        "!pip install torchinfo"
      ]
    },
    {
      "cell_type": "code",
      "execution_count": null,
      "metadata": {
        "id": "DyJ0hqR8nku1"
      },
      "outputs": [],
      "source": [
        "import torch\n",
        "from torch import nn\n",
        "from torch import optim\n",
        "import numpy as np\n",
        "from gc import collect\n",
        "import pickle\n",
        "import pandas as pd\n",
        "from sklearn.metrics import f1_score, accuracy_score\n",
        "from random import shuffle\n",
        "from torchinfo import summary\n",
        "from IPython.display import clear_output"
      ]
    },
    {
      "cell_type": "code",
      "execution_count": null,
      "metadata": {
        "id": "W_hD8rxQPXso"
      },
      "outputs": [],
      "source": [
        "if torch.cuda.is_available(): device = 'cuda'\n",
        "else: device = 'cpu'"
      ]
    },
    {
      "cell_type": "code",
      "execution_count": null,
      "metadata": {
        "id": "zamigMpZPZpZ"
      },
      "outputs": [],
      "source": [
        "words = pickle.load(open('/content/drive/MyDrive/elmo_word+char_based/words_dict.pkl', mode='rb'))\n",
        "words_count = len(words.keys()) + 1 # For padding in word based"
      ]
    },
    {
      "cell_type": "code",
      "execution_count": null,
      "metadata": {
        "id": "N2zzdY4oPdzO"
      },
      "outputs": [],
      "source": [
        "class Model(nn.Module):\n",
        "  def __init__(self, embed_dim, rnn_hidden_size):\n",
        "    super(Model, self).__init__()\n",
        "    self.embed = nn.Embedding(num_embeddings=words_count, embedding_dim=embed_dim, device=device)\n",
        "    self.bi_lstm = nn.LSTM(input_size=embed_dim, hidden_size=rnn_hidden_size, num_layers=1, bias=True,\n",
        "                           batch_first=True, dropout=0, bidirectional=True, device=device)\n",
        "    self.linear_after_rnn = nn.Linear(in_features=rnn_hidden_size * 2, out_features=300, bias=True, device=device)\n",
        "    self.output_layer = nn.Linear(in_features=300, out_features=3, bias=True, device=device)\n",
        "  def forward(self, X):\n",
        "    output = self.embed(X).to(device)\n",
        "    output = self.bi_lstm(output)[0]\n",
        "    output = torch.max(output, dim=1).values\n",
        "    output = self.linear_after_rnn(output)\n",
        "    output = self.output_layer(output)\n",
        "    return output"
      ]
    },
    {
      "cell_type": "code",
      "execution_count": null,
      "metadata": {
        "id": "yWnSUutuynYs"
      },
      "outputs": [],
      "source": [
        "embed_dim = 100\n",
        "rnn_hidden_size = 256\n",
        "slices = ['/content/drive/MyDrive/elmo_word+char_based/slice1.npz', '/content/drive/MyDrive/elmo_word+char_based/slice2.npz',\n",
        "          '/content/drive/MyDrive/elmo_word+char_based/slice3.npz', '/content/drive/MyDrive/elmo_word+char_based/slice4.npz',\n",
        "          '/content/drive/MyDrive/elmo_word+char_based/slice5.npz', '/content/drive/MyDrive/elmo_word+char_based/slice6.npz',\n",
        "          '/content/drive/MyDrive/elmo_word+char_based/slice7.npz', '/content/drive/MyDrive/elmo_word+char_based/slice8.npz',\n",
        "          '/content/drive/MyDrive/elmo_word+char_based/slice9.npz']"
      ]
    },
    {
      "cell_type": "code",
      "execution_count": null,
      "metadata": {
        "id": "d5_KMi2xysk4"
      },
      "outputs": [],
      "source": [
        "model = Model(embed_dim, rnn_hidden_size)\n",
        "optimizer = optim.Adam(params=model.parameters(), lr=1e-4)\n",
        "print(summary(model))\n",
        "model.train()\n",
        "\n",
        "batch_size = 32\n",
        "epochs = 10\n",
        "ce = nn.CrossEntropyLoss()\n",
        "\n",
        "batch_size_test = 1024\n",
        "metrics_epoch = list()\n",
        "test_set = np.load('drive/MyDrive/elmo_word+char_based/slice_test.npz')\n",
        "labels_test = np.array(test_set['labels'], dtype=np.int32)\n",
        "test_set = torch.Tensor(test_set['word_based']).type(torch.int32).to('cpu')\n",
        "for label_idx in range(len(labels_test)):\n",
        "  if labels_test[label_idx] == -1: labels_test[label_idx] = 0\n",
        "  elif labels_test[label_idx] == 0: labels_test[label_idx] = 1\n",
        "  elif labels_test[label_idx] == 1: labels_test[label_idx] = 2\n",
        "\n",
        "for epoch in range(epochs):\n",
        "  shuffle(slices)\n",
        "  epoch_loss = list()\n",
        "  for slice_idx in range(len(slices)):\n",
        "    dataset = np.load(slices[slice_idx])\n",
        "    labels = torch.Tensor(dataset['labels'].astype(np.int64)).type(torch.int64).to('cpu')\n",
        "    dataset_word_based = torch.Tensor(dataset['word_based']).type(torch.int32).to('cpu')\n",
        "    for label_idx in range(len(labels)):\n",
        "      if labels[label_idx] == -1: labels[label_idx] = 0\n",
        "      elif labels[label_idx] == 0: labels[label_idx] = 1\n",
        "      elif labels[label_idx] == 1: labels[label_idx] = 2\n",
        "    dataset_size = dataset_word_based.shape[0]\n",
        "    idx = torch.randperm(dataset_word_based.shape[0])\n",
        "    dataset_word_based = dataset_word_based[idx] # Randomization\n",
        "    labels = labels[idx] # Randomization\n",
        "    for batch in range(batch_size, dataset_word_based.shape[0] + batch_size, batch_size):\n",
        "      optimizer.zero_grad()\n",
        "      X_word_based = dataset_word_based[batch - batch_size:batch].to(device)\n",
        "      y = labels[batch - batch_size:batch].to(device)\n",
        "      output = model(X_word_based).squeeze()\n",
        "      loss = ce(output, y)\n",
        "      loss.backward()\n",
        "      optimizer.step()\n",
        "      loss_value = loss.item()\n",
        "      epoch_loss.append(loss_value)\n",
        "      for metrics in metrics_epoch:\n",
        "        print(f'Epoch: {metrics[0]} - Accuracy: {metrics[1]} - F1: {metrics[2]} - Training Loss: {metrics[3]}')\n",
        "      print(f'Epoch: {epoch + 1} - Slice index: {slice_idx + 1} - Batch: {batch} - Loss: {loss_value} - Dataset size: {dataset_size}')    \n",
        "      clear_output(wait=True)\n",
        "    del X_word_based, y, labels, output\n",
        "    collect()\n",
        "  \n",
        "  model.eval()\n",
        "  y_pred = list()\n",
        "  for batch in range(batch_size_test, test_set.shape[0] + batch_size_test, batch_size_test):\n",
        "    X = test_set[batch - batch_size_test:batch].to(device)\n",
        "    output = torch.argmax(model(X).squeeze(), dim=1).detach().cpu().numpy()\n",
        "    for y in output:\n",
        "      y_pred.append(y)\n",
        "  y_pred = np.array(y_pred)\n",
        "  accuracy = accuracy_score(labels_test, y_pred)\n",
        "  f1 = f1_score(labels_test, y_pred, average='weighted')\n",
        "  with open('/content/drive/MyDrive/elmo_word+char_based/DL_KerasEmb_BiLSTM_WordBased_Log.txt', mode='a') as writer:\n",
        "    writer.write(f'Epoch: {epoch+1} - Test Accuracy: {accuracy} - Test F1: {f1} - Train Loss (mean): {np.mean(epoch_loss)}\\n')\n",
        "  metrics_epoch.append([epoch+1, accuracy, f1, np.mean(epoch_loss)])\n",
        "  model.train()\n",
        "  del X, output, y_pred, accuracy, f1\n",
        "  collect()\n",
        "\n",
        "  print('---------------------')\n",
        "  print(f'Epoch: {epoch + 1} - Loss: {np.mean(epoch_loss)}')\n",
        "  print('---------------------')"
      ]
    },
    {
      "cell_type": "code",
      "execution_count": null,
      "metadata": {
        "colab": {
          "base_uri": "https://localhost:8080/"
        },
        "id": "TMgrOQCMywHX",
        "outputId": "6954b1ff-4d84-485b-9a82-ac9b14c82d2d"
      },
      "outputs": [
        {
          "name": "stdout",
          "output_type": "stream",
          "text": [
            "1024\n",
            "2048\n",
            "3072\n",
            "4096\n",
            "5120\n",
            "6144\n",
            "7168\n",
            "8192\n",
            "9216\n",
            "10240\n",
            "F1 Score: 0.7498991637053165\n",
            "Accuracy: 0.7497\n"
          ]
        }
      ],
      "source": [
        "model.eval()\n",
        "batch_size = 1024\n",
        "test_set = np.load('drive/MyDrive/elmo_word+char_based/slice_test.npz')\n",
        "y_pred = list()\n",
        "\n",
        "labels = torch.Tensor(test_set['labels'].astype(np.int64)).type(torch.int64).to('cpu')\n",
        "test_word_based = torch.Tensor(test_set['word_based']).type(torch.int32).to('cpu')\n",
        "for label_idx in range(len(labels)):\n",
        "  if labels[label_idx] == -1: labels[label_idx] = 0\n",
        "  elif labels[label_idx] == 0: labels[label_idx] = 1\n",
        "  elif labels[label_idx] == 1: labels[label_idx] = 2\n",
        "for batch in range(batch_size, test_word_based.shape[0] + batch_size, batch_size):\n",
        "  X_word_based = test_word_based[batch - batch_size:batch].to(device)\n",
        "  output = torch.argmax(model(X_word_based).squeeze(), dim=1).detach().cpu().numpy()\n",
        "  for y in output:\n",
        "    y_pred.append(y)\n",
        "  print(batch)\n",
        "y_pred = np.array(y_pred)\n",
        "\n",
        "f1 = f1_score(labels, y_pred, average='weighted')\n",
        "accuracy = accuracy_score(labels, y_pred)\n",
        "print(f'F1 Score: {f1}')\n",
        "print(f'Accuracy: {accuracy}')"
      ]
    }
  ],
  "metadata": {
    "accelerator": "GPU",
    "colab": {
      "provenance": [],
      "include_colab_link": true
    },
    "gpuClass": "standard",
    "kernelspec": {
      "display_name": "Python 3",
      "language": "python",
      "name": "python3"
    },
    "language_info": {
      "codemirror_mode": {
        "name": "ipython",
        "version": 3
      },
      "file_extension": ".py",
      "mimetype": "text/x-python",
      "name": "python",
      "nbconvert_exporter": "python",
      "pygments_lexer": "ipython3",
      "version": "3.7.4"
    }
  },
  "nbformat": 4,
  "nbformat_minor": 0
}